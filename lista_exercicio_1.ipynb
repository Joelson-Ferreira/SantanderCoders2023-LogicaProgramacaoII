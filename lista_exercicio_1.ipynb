{
 "cells": [
  {
   "cell_type": "markdown",
   "metadata": {},
   "source": [
    "# Lista de execícios 1"
   ]
  },
  {
   "cell_type": "markdown",
   "metadata": {},
   "source": [
    "1. Escreva uma função que recebe uma lista de números inteiros e retorna uma lista apenas com os números primos presentes na lista."
   ]
  },
  {
   "cell_type": "code",
   "execution_count": 1,
   "metadata": {},
   "outputs": [
    {
     "data": {
      "text/plain": [
       "[1, 2, 3, 5, 7, 11]"
      ]
     },
     "execution_count": 1,
     "metadata": {},
     "output_type": "execute_result"
    }
   ],
   "source": [
    "def lista_primos(lista):\n",
    "    primos=[]\n",
    "    divisiveis=[]\n",
    "\n",
    "    for num in lista:\n",
    "        mult = [x + 1 for x in range(1,num-1)]\n",
    "\n",
    "        for i in mult:\n",
    "            if num % i == 0:\n",
    "                divisiveis.append(num)\n",
    "        if len(divisiveis) == 0:\n",
    "            primos.append(num)\n",
    "        else:\n",
    "            divisiveis=[]\n",
    "    return primos\n",
    "\n",
    "lista = [1,2,3,4,5,6,7,8,9,10,11,12]\n",
    "lista_primos(lista)\n"
   ]
  },
  {
   "cell_type": "markdown",
   "metadata": {},
   "source": [
    "2. Crie uma função que recebe uma lista de strings e retorna um dicionário onde as chaves são as strings e os valores são o número de ocorrências de cada string na lista.\n"
   ]
  },
  {
   "cell_type": "code",
   "execution_count": 7,
   "metadata": {},
   "outputs": [
    {
     "name": "stdout",
     "output_type": "stream",
     "text": [
      "{'Coca-cola': 3, 'Fanta Uva': 2, 'Fanta Laranja': 1, 'Agua Mineral': 4}\n"
     ]
    }
   ],
   "source": [
    "def dicVendas(lista):\n",
    "    dicionario ={}\n",
    "    for item in lista:\n",
    "        if item not in dicionario:\n",
    "            dicionario.update({item:1})\n",
    "        else:\n",
    "            dicionario[item] += 1\n",
    "    print(dicionario)\n",
    "\n",
    "\n",
    "vendas=['Coca-cola','Fanta Uva', 'Fanta Laranja', 'Agua Mineral', 'Agua Mineral', 'Coca-cola', 'Agua Mineral', 'Coca-cola', 'Fanta Uva', 'Agua Mineral']\n",
    "dicVendas(vendas)\n"
   ]
  },
  {
   "cell_type": "markdown",
   "metadata": {},
   "source": [
    "3. Utilizando compreensão de listas, crie uma lista de todos os números pares entre 1 e 100 que sejam divisíveis por 6 e 9.\n",
    "\n"
   ]
  },
  {
   "cell_type": "code",
   "execution_count": 17,
   "metadata": {},
   "outputs": [
    {
     "name": "stdout",
     "output_type": "stream",
     "text": [
      "[0, 18, 36, 54, 72, 90]\n"
     ]
    }
   ],
   "source": [
    "numPares=[x for x in range(0,101,2) if x%6==0 and x%9==0]\n",
    "print(numPares)"
   ]
  },
  {
   "cell_type": "markdown",
   "metadata": {},
   "source": [
    "4. Escreva uma função que recebe uma lista de tuplas, onde cada tupla contém o nome de um produto e o preço. A função deve retornar o produto mais caro da lista.\n"
   ]
  },
  {
   "cell_type": "code",
   "execution_count": 57,
   "metadata": {},
   "outputs": [
    {
     "data": {
      "text/plain": [
       "['pitaya', 35.8]"
      ]
     },
     "execution_count": 57,
     "metadata": {},
     "output_type": "execute_result"
    }
   ],
   "source": [
    "def prodCaro(lista):\n",
    "    frutaCara=[]\n",
    "\n",
    "    for item in lista:\n",
    "        fruta, preco = item\n",
    "        \n",
    "        if len(frutaCara) == 0:\n",
    "            frutaCara.append(fruta)\n",
    "            frutaCara.append(preco)\n",
    "        else:\n",
    "            if preco > frutaCara[1]:\n",
    "                frutaCara[0] = fruta\n",
    "                frutaCara[1] = preco\n",
    "                \n",
    "    return frutaCara\n",
    "\n",
    "precoFrutas = [('uva', 5.5),('maca',7.00),('banana', 10.00), ('morango',22.35), ('pitaya', 35.80)]\n",
    "prodCaro(precoFrutas)"
   ]
  },
  {
   "cell_type": "markdown",
   "metadata": {},
   "source": [
    "5. Crie uma função que recebe uma lista de strings e retorna uma nova lista contendo apenas as strings que são palíndromos (lidas da mesma forma de trás para frente).\n"
   ]
  },
  {
   "cell_type": "code",
   "execution_count": null,
   "metadata": {},
   "outputs": [],
   "source": []
  },
  {
   "cell_type": "markdown",
   "metadata": {},
   "source": [
    "6. Escreva uma função que recebe uma lista de dicionários, onde cada dicionário representa um aluno com as chaves \"nome\" (string) e \"notas\" (lista de números inteiros). A função deve retornar uma nova lista de dicionários contendo os alunos que tiveram média de notas maior que 7.\n"
   ]
  },
  {
   "cell_type": "code",
   "execution_count": null,
   "metadata": {},
   "outputs": [],
   "source": []
  },
  {
   "cell_type": "markdown",
   "metadata": {},
   "source": [
    "Extra:\n",
    "\n",
    "Você foi contratado para desenvolver um sistema de processamento de votos para uma eleição. O sistema deve receber uma lista de votos contendo os números dos candidatos e produzir os seguintes resultados:\n",
    "\n",
    "a) O total de votos válidos (votos para candidatos existentes);\n",
    "b) O total de votos nulos (votos em candidatos não existentes);\n",
    "c) O total de votos em branco (votos em branco);\n",
    "d) O candidato vencedor (candidato com o maior número de votos válidos);\n",
    "e) A porcentagem de votos válidos para cada candidato.\n",
    "\n",
    "Considere que os votos válidos são os votos para candidatos cujo número está presente na lista de candidatos. Os votos nulos são os votos para candidatos cujo número não existe na lista de candidatos. Os votos em branco são votos que não possuem um número de candidato associado.\n",
    "\n",
    "Desenvolva uma função em Python que receba a lista de votos e a lista de candidatos e retorne os resultados descritos acima.\n",
    "\n",
    "\n",
    "Exemplo de entrada: \n",
    "\n",
    "lista_votos = [10, 15, 23, 15, 0, 18, 10, 0, 12, 10]\n",
    "lista_candidatos = [10, 23, 18]\n",
    "\n",
    "Exemplo de saída:\n",
    "\n",
    "{\n",
    "    'votos_validos': 5,\n",
    "    'votos_nulos': 2,\n",
    "    'votos_em_branco': 3,\n",
    "    'candidato_vencedor': 10,\n",
    "    'porcentagem_votos_validos': {\n",
    "        10: 50.0,\n",
    "        23: 25.0,\n",
    "        18: 25.0\n",
    "    }\n",
    "}"
   ]
  },
  {
   "cell_type": "markdown",
   "metadata": {},
   "source": []
  }
 ],
 "metadata": {
  "kernelspec": {
   "display_name": "Python 3",
   "language": "python",
   "name": "python3"
  },
  "language_info": {
   "codemirror_mode": {
    "name": "ipython",
    "version": 3
   },
   "file_extension": ".py",
   "mimetype": "text/x-python",
   "name": "python",
   "nbconvert_exporter": "python",
   "pygments_lexer": "ipython3",
   "version": "3.11.2"
  },
  "orig_nbformat": 4
 },
 "nbformat": 4,
 "nbformat_minor": 2
}
